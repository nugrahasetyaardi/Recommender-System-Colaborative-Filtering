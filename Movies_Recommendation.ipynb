{
 "cells": [
  {
   "cell_type": "markdown",
   "metadata": {
    "colab_type": "text",
    "id": "u_0oQaUOA9CI"
   },
   "source": [
    "# Movie Recommendation System using Collaborative Filtering\n",
    "\n",
    "![Movies Collage](https://i.imgur.com/T7V0VZ6.png)\n",
    "\n",
    "For this project we are going to create a recommendation engine for movies for users based on there past behaviour.\n",
    "\n",
    "---\n",
    "\n",
    "We will focus on the **collaborative filtering** approach, that is: \n",
    "\n",
    "The user is recommended items that people with similar tastes and preferences liked in the past. In another word, this method predicts unknown ratings by using the similarities between users.\n",
    "\n",
    "---\n",
    "\n",
    "Note: This notebook uses `python 3` and these packages: `pandas`, `numpy`, `matplotlib` and `scikit-surprise`\n",
    "\n",
    "We can install them using:\n",
    "```Shell\n",
    "pip3 install pandas matplotlib numpy scikit-surprise\n",
    "```"
   ]
  },
  {
   "cell_type": "markdown",
   "metadata": {
    "colab_type": "text",
    "id": "eMZcgcQsm-9y"
   },
   "source": [
    "## 1.1: Installing Libraries"
   ]
  },
  {
   "cell_type": "code",
   "execution_count": 1,
   "metadata": {
    "colab": {
     "base_uri": "https://localhost:8080/",
     "height": 252
    },
    "colab_type": "code",
    "id": "HNmYMKhCnITm",
    "outputId": "9897054c-43a8-4add-ecc2-72caf4da5271"
   },
   "outputs": [
    {
     "name": "stdout",
     "output_type": "stream",
     "text": [
      ">> Installing Libraries\n",
      "Requirement already satisfied: pandas in /opt/conda/lib/python3.8/site-packages (1.0.5)\n",
      "Requirement already satisfied: matplotlib in /opt/conda/lib/python3.8/site-packages (3.2.2)\n",
      "Requirement already satisfied: numpy in /opt/conda/lib/python3.8/site-packages (1.19.0)\n",
      "Requirement already satisfied: scikit-surprise in /opt/conda/lib/python3.8/site-packages (1.1.1)\n",
      "Requirement already satisfied: python-dateutil>=2.6.1 in /opt/conda/lib/python3.8/site-packages (from pandas) (2.8.1)\n",
      "Requirement already satisfied: pytz>=2017.2 in /opt/conda/lib/python3.8/site-packages (from pandas) (2020.1)\n",
      "Requirement already satisfied: kiwisolver>=1.0.1 in /opt/conda/lib/python3.8/site-packages (from matplotlib) (1.2.0)\n",
      "Requirement already satisfied: cycler>=0.10 in /opt/conda/lib/python3.8/site-packages (from matplotlib) (0.10.0)\n",
      "Requirement already satisfied: pyparsing!=2.0.4,!=2.1.2,!=2.1.6,>=2.0.1 in /opt/conda/lib/python3.8/site-packages (from matplotlib) (2.4.7)\n",
      "Requirement already satisfied: scipy>=1.0.0 in /opt/conda/lib/python3.8/site-packages (from scikit-surprise) (1.4.1)\n",
      "Requirement already satisfied: six>=1.10.0 in /opt/conda/lib/python3.8/site-packages (from scikit-surprise) (1.15.0)\n",
      "Requirement already satisfied: joblib>=0.11 in /opt/conda/lib/python3.8/site-packages (from scikit-surprise) (0.16.0)\n",
      ">> Libraries Installed\n"
     ]
    }
   ],
   "source": [
    "print('>> Installing Libraries')\n",
    "\n",
    "!pip3 install pandas matplotlib numpy scikit-surprise\n",
    "\n",
    "print('>> Libraries Installed')"
   ]
  },
  {
   "cell_type": "markdown",
   "metadata": {
    "colab_type": "text",
    "id": "FYwbN6KqJjPo"
   },
   "source": [
    "## 1.2: Importing Libraries\n",
    "\n",
    "First of all, we will need to import some libraries. This includes surprise which we will use to create the recommendation system."
   ]
  },
  {
   "cell_type": "code",
   "execution_count": 2,
   "metadata": {
    "colab": {
     "base_uri": "https://localhost:8080/",
     "height": 50
    },
    "colab_type": "code",
    "id": "5OGYBAjxAzLC",
    "outputId": "54fde954-4f5c-421b-d6e2-341ef13b6fa8"
   },
   "outputs": [
    {
     "name": "stdout",
     "output_type": "stream",
     "text": [
      ">> Importing Libraries\n",
      ">> Libraries imported.\n"
     ]
    }
   ],
   "source": [
    "print('>> Importing Libraries')\n",
    "\n",
    "import pandas as pd\n",
    "\n",
    "from surprise import Reader, Dataset, SVD\n",
    "\n",
    "from surprise.accuracy import rmse, mae\n",
    "from surprise.model_selection import cross_validate\n",
    "\n",
    "print('>> Libraries imported.')"
   ]
  },
  {
   "cell_type": "markdown",
   "metadata": {
    "colab_type": "text",
    "id": "Zg9d8GR6A_rr"
   },
   "source": [
    "# Task 2: Importing Data\n",
    "\n",
    "We will use open-source dataset from GroupLens Research ([movielens.org](http://movielens.org))"
   ]
  },
  {
   "cell_type": "markdown",
   "metadata": {
    "colab_type": "text",
    "id": "vS0k5tdWKSfZ"
   },
   "source": [
    "## 2.1: Importing the Data\n",
    "\n",
    "The dataset is saved in a `ratings.csv` file. We will use pandas to take a look at some of the rows."
   ]
  },
  {
   "cell_type": "code",
   "execution_count": 3,
   "metadata": {
    "colab": {
     "base_uri": "https://localhost:8080/",
     "height": 195
    },
    "colab_type": "code",
    "id": "3lbOmdPwKsPm",
    "outputId": "e525b379-82b1-4820-cdf5-e5c903cde1aa"
   },
   "outputs": [
    {
     "data": {
      "text/html": [
       "<div>\n",
       "<style scoped>\n",
       "    .dataframe tbody tr th:only-of-type {\n",
       "        vertical-align: middle;\n",
       "    }\n",
       "\n",
       "    .dataframe tbody tr th {\n",
       "        vertical-align: top;\n",
       "    }\n",
       "\n",
       "    .dataframe thead th {\n",
       "        text-align: right;\n",
       "    }\n",
       "</style>\n",
       "<table border=\"1\" class=\"dataframe\">\n",
       "  <thead>\n",
       "    <tr style=\"text-align: right;\">\n",
       "      <th></th>\n",
       "      <th>userId</th>\n",
       "      <th>movieId</th>\n",
       "      <th>rating</th>\n",
       "      <th>timestamp</th>\n",
       "    </tr>\n",
       "  </thead>\n",
       "  <tbody>\n",
       "    <tr>\n",
       "      <th>0</th>\n",
       "      <td>1</td>\n",
       "      <td>1</td>\n",
       "      <td>4.0</td>\n",
       "      <td>964982703</td>\n",
       "    </tr>\n",
       "    <tr>\n",
       "      <th>1</th>\n",
       "      <td>1</td>\n",
       "      <td>3</td>\n",
       "      <td>4.0</td>\n",
       "      <td>964981247</td>\n",
       "    </tr>\n",
       "    <tr>\n",
       "      <th>2</th>\n",
       "      <td>1</td>\n",
       "      <td>6</td>\n",
       "      <td>4.0</td>\n",
       "      <td>964982224</td>\n",
       "    </tr>\n",
       "    <tr>\n",
       "      <th>3</th>\n",
       "      <td>1</td>\n",
       "      <td>47</td>\n",
       "      <td>5.0</td>\n",
       "      <td>964983815</td>\n",
       "    </tr>\n",
       "    <tr>\n",
       "      <th>4</th>\n",
       "      <td>1</td>\n",
       "      <td>50</td>\n",
       "      <td>5.0</td>\n",
       "      <td>964982931</td>\n",
       "    </tr>\n",
       "  </tbody>\n",
       "</table>\n",
       "</div>"
      ],
      "text/plain": [
       "   userId  movieId  rating  timestamp\n",
       "0       1        1     4.0  964982703\n",
       "1       1        3     4.0  964981247\n",
       "2       1        6     4.0  964982224\n",
       "3       1       47     5.0  964983815\n",
       "4       1       50     5.0  964982931"
      ]
     },
     "execution_count": 3,
     "metadata": {},
     "output_type": "execute_result"
    }
   ],
   "source": [
    "df = pd.read_csv (\"ratings.csv\")\n",
    "df.head()"
   ]
  },
  {
   "cell_type": "markdown",
   "metadata": {
    "colab_type": "text",
    "id": "GvUhDQIgLOEY"
   },
   "source": [
    "## 2.2 Dropping timestamp\n",
    "\n",
    "We won't be using the timestamp when user gave the particular rating. So we will drop that column."
   ]
  },
  {
   "cell_type": "code",
   "execution_count": 4,
   "metadata": {
    "colab": {
     "base_uri": "https://localhost:8080/",
     "height": 195
    },
    "colab_type": "code",
    "id": "TXvWh3duLjiP",
    "outputId": "47e60d89-b40a-4411-a837-d5c32503427c"
   },
   "outputs": [
    {
     "data": {
      "text/html": [
       "<div>\n",
       "<style scoped>\n",
       "    .dataframe tbody tr th:only-of-type {\n",
       "        vertical-align: middle;\n",
       "    }\n",
       "\n",
       "    .dataframe tbody tr th {\n",
       "        vertical-align: top;\n",
       "    }\n",
       "\n",
       "    .dataframe thead th {\n",
       "        text-align: right;\n",
       "    }\n",
       "</style>\n",
       "<table border=\"1\" class=\"dataframe\">\n",
       "  <thead>\n",
       "    <tr style=\"text-align: right;\">\n",
       "      <th></th>\n",
       "      <th>userId</th>\n",
       "      <th>movieId</th>\n",
       "      <th>rating</th>\n",
       "    </tr>\n",
       "  </thead>\n",
       "  <tbody>\n",
       "    <tr>\n",
       "      <th>0</th>\n",
       "      <td>1</td>\n",
       "      <td>1</td>\n",
       "      <td>4.0</td>\n",
       "    </tr>\n",
       "    <tr>\n",
       "      <th>1</th>\n",
       "      <td>1</td>\n",
       "      <td>3</td>\n",
       "      <td>4.0</td>\n",
       "    </tr>\n",
       "    <tr>\n",
       "      <th>2</th>\n",
       "      <td>1</td>\n",
       "      <td>6</td>\n",
       "      <td>4.0</td>\n",
       "    </tr>\n",
       "    <tr>\n",
       "      <th>3</th>\n",
       "      <td>1</td>\n",
       "      <td>47</td>\n",
       "      <td>5.0</td>\n",
       "    </tr>\n",
       "    <tr>\n",
       "      <th>4</th>\n",
       "      <td>1</td>\n",
       "      <td>50</td>\n",
       "      <td>5.0</td>\n",
       "    </tr>\n",
       "  </tbody>\n",
       "</table>\n",
       "</div>"
      ],
      "text/plain": [
       "   userId  movieId  rating\n",
       "0       1        1     4.0\n",
       "1       1        3     4.0\n",
       "2       1        6     4.0\n",
       "3       1       47     5.0\n",
       "4       1       50     5.0"
      ]
     },
     "execution_count": 4,
     "metadata": {},
     "output_type": "execute_result"
    }
   ],
   "source": [
    "df.drop('timestamp', axis=1, inplace=True)\n",
    "df.head()"
   ]
  },
  {
   "cell_type": "markdown",
   "metadata": {
    "colab_type": "text",
    "id": "OPEBn0gAK-5m"
   },
   "source": [
    "## 2.3 Check for Missing Data\n",
    "\n",
    "It's a good practice to check if the data has any missing values. In real world data, this is quite common and must be taken care of before any data pre-processing or model training."
   ]
  },
  {
   "cell_type": "code",
   "execution_count": 5,
   "metadata": {
    "colab": {
     "base_uri": "https://localhost:8080/",
     "height": 84
    },
    "colab_type": "code",
    "id": "BfBqk7KkLFV6",
    "outputId": "94f9c7f7-6f9f-4ab5-9c08-0548e96b29ce"
   },
   "outputs": [
    {
     "data": {
      "text/plain": [
       "userId     0\n",
       "movieId    0\n",
       "rating     0\n",
       "dtype: int64"
      ]
     },
     "execution_count": 5,
     "metadata": {},
     "output_type": "execute_result"
    }
   ],
   "source": [
    "df.isna().sum()"
   ]
  },
  {
   "cell_type": "markdown",
   "metadata": {
    "colab_type": "text",
    "id": "FQYVA-J5MCUG"
   },
   "source": [
    "# Task 3: EDA (Exploratory data analysis)\n",
    "\n",
    "In statistics, exploratory data analysis is an approach to analyzing data sets to summarize their main characteristics."
   ]
  },
  {
   "cell_type": "markdown",
   "metadata": {
    "colab_type": "text",
    "id": "XJ0CD6ZiOpRI"
   },
   "source": [
    "## 3.1 Number of movies/users"
   ]
  },
  {
   "cell_type": "code",
   "execution_count": 6,
   "metadata": {
    "colab": {
     "base_uri": "https://localhost:8080/",
     "height": 50
    },
    "colab_type": "code",
    "id": "vnEIeAO6Psj2",
    "outputId": "1a125e7d-588c-4a40-bddd-72cce464cfbb"
   },
   "outputs": [
    {
     "name": "stdout",
     "output_type": "stream",
     "text": [
      "Number of movies: 9724\n",
      "Number of users: 610\n"
     ]
    }
   ],
   "source": [
    "n_movies = df[\"movieId\"].nunique() \n",
    "n_users = df[\"userId\"].nunique() \n",
    "\n",
    "print(f'Number of movies: {n_movies}')\n",
    "print(f'Number of users: {n_users}')"
   ]
  },
  {
   "cell_type": "markdown",
   "metadata": {
    "colab_type": "text",
    "id": "dclqP0iXOo_F"
   },
   "source": [
    "## 3.2 Sparsity of our data\n",
    "\n",
    "Sparsity (%) = `(No of missing values/ (Total Values))X100`"
   ]
  },
  {
   "cell_type": "code",
   "execution_count": 7,
   "metadata": {
    "colab": {
     "base_uri": "https://localhost:8080/",
     "height": 50
    },
    "colab_type": "code",
    "id": "xPYF0zlfREMK",
    "outputId": "736f8d3b-44e0-40c6-9649-6ee326566c35"
   },
   "outputs": [
    {
     "name": "stdout",
     "output_type": "stream",
     "text": [
      "100836 5931640 5830804\n",
      "98.30003169443864%\n"
     ]
    }
   ],
   "source": [
    "available_ratings = df['rating'].count()\n",
    "total_ratings = n_movies * n_users\n",
    "missing_ratings = total_ratings - available_ratings\n",
    "sparsity = (missing_ratings/total_ratings)*100\n",
    "print(available_ratings, total_ratings, missing_ratings)\n",
    "print(f'{sparsity}%')"
   ]
  },
  {
   "cell_type": "markdown",
   "metadata": {
    "colab_type": "text",
    "id": "kcYDLtG5Ok_p"
   },
   "source": [
    "## 3.3 Ratings Distribution"
   ]
  },
  {
   "cell_type": "code",
   "execution_count": 8,
   "metadata": {
    "colab": {
     "base_uri": "https://localhost:8080/",
     "height": 288
    },
    "colab_type": "code",
    "id": "ZO7Mv-jdL4_z",
    "outputId": "10fe8037-c46a-4c2c-d362-1042f052cbca"
   },
   "outputs": [
    {
     "data": {
      "text/plain": [
       "<matplotlib.axes._subplots.AxesSubplot at 0x7fb540e32c40>"
      ]
     },
     "execution_count": 8,
     "metadata": {},
     "output_type": "execute_result"
    },
    {
     "data": {
      "image/png": "[encoded data removed]",
      "text/plain": [
       "<Figure size 432x288 with 1 Axes>"
      ]
     },
     "metadata": {
      "needs_background": "light"
     },
     "output_type": "display_data"
    }
   ],
   "source": [
    "df['rating'].value_counts().plot(kind='bar')"
   ]
  },
  {
   "cell_type": "markdown",
   "metadata": {
    "colab_type": "text",
    "id": "xdLsIItxSd9K"
   },
   "source": [
    "# Task 4: Dimensionality Reduction\n",
    "\n",
    "To reduce the dimensionality of the dataset, we will filter out rarely rated movies and rarely rating users"
   ]
  },
  {
   "cell_type": "markdown",
   "metadata": {
    "colab_type": "text",
    "id": "i3jYt3m5TNVL"
   },
   "source": [
    "## 4.1 Filter movies with less than 3 ratings"
   ]
  },
  {
   "cell_type": "code",
   "execution_count": 9,
   "metadata": {
    "colab": {},
    "colab_type": "code",
    "id": "msZU9YSxSeUo"
   },
   "outputs": [],
   "source": [
    "min_ratings = 3\n",
    "filter_movies = df['movieId'].value_counts() > min_ratings\n",
    "filter_movies = filter_movies[filter_movies].index.tolist()"
   ]
  },
  {
   "cell_type": "markdown",
   "metadata": {
    "colab_type": "text",
    "id": "IYaMxlXcTdGS"
   },
   "source": [
    "## 4.2 Filter users with less than 3 movies rated"
   ]
  },
  {
   "cell_type": "code",
   "execution_count": 10,
   "metadata": {
    "colab": {},
    "colab_type": "code",
    "id": "WPeNAggIS-Y_"
   },
   "outputs": [],
   "source": [
    "min_user_ratings = 3\n",
    "filter_users = df['userId'].value_counts() > min_user_ratings\n",
    "filter_users = filter_users[filter_users].index.tolist()"
   ]
  },
  {
   "cell_type": "markdown",
   "metadata": {
    "colab_type": "text",
    "id": "c2LFIAGXT3ro"
   },
   "source": [
    "## 4.3 Remove rarely rated movies and rarely rating users"
   ]
  },
  {
   "cell_type": "code",
   "execution_count": 11,
   "metadata": {
    "colab": {
     "base_uri": "https://localhost:8080/",
     "height": 50
    },
    "colab_type": "code",
    "id": "tTUG4ao6S_x7",
    "outputId": "0d080569-959b-4796-eaaf-9a08a83aebff"
   },
   "outputs": [
    {
     "name": "stdout",
     "output_type": "stream",
     "text": [
      "The original data frame shape:\t(100836, 3)\n",
      "The new data frame shape:\t(92394, 3)\n"
     ]
    }
   ],
   "source": [
    "print('The original data frame shape:\\t{}'.format(df.shape))\n",
    "df = df[(df['movieId'].isin(filter_movies)) & (df['userId'].isin(filter_users))]\n",
    "print('The new data frame shape:\\t{}'.format(df.shape))"
   ]
  },
  {
   "cell_type": "markdown",
   "metadata": {
    "colab_type": "text",
    "id": "TbviZWiPM3jQ"
   },
   "source": [
    "# Task 5: Create Training and Test Sets"
   ]
  },
  {
   "cell_type": "markdown",
   "metadata": {
    "colab_type": "text",
    "id": "TIK2L0VuhbgA"
   },
   "source": [
    "## 5.1 Columns used for training"
   ]
  },
  {
   "cell_type": "code",
   "execution_count": 12,
   "metadata": {
    "colab": {},
    "colab_type": "code",
    "id": "bXF4dmJKhF7q"
   },
   "outputs": [],
   "source": [
    "cols = ['userId', 'movieId', 'rating']"
   ]
  },
  {
   "cell_type": "markdown",
   "metadata": {
    "colab_type": "text",
    "id": "J8rylnJmUjYk"
   },
   "source": [
    "## 5.2 Create surprise dataset"
   ]
  },
  {
   "cell_type": "code",
   "execution_count": 13,
   "metadata": {
    "colab": {},
    "colab_type": "code",
    "id": "4UOTMUssM6Tw"
   },
   "outputs": [],
   "source": [
    "reader = Reader(rating_scale=(0.5, 5))\n",
    "data = Dataset.load_from_df(df[cols], reader)"
   ]
  },
  {
   "cell_type": "markdown",
   "metadata": {
    "colab_type": "text",
    "id": "8lM--CdvguDz"
   },
   "source": [
    "## 5.3 Create Train-set and Prediction-set"
   ]
  },
  {
   "cell_type": "code",
   "execution_count": 14,
   "metadata": {
    "colab": {},
    "colab_type": "code",
    "id": "heITVvtvU1FD"
   },
   "outputs": [],
   "source": [
    "trainset = data.build_full_trainset()    # For training\n",
    "antiset = trainset.build_anti_testset()  # For prediction"
   ]
  },
  {
   "cell_type": "markdown",
   "metadata": {
    "colab_type": "text",
    "id": "AYfhHDReuO5h"
   },
   "source": [
    "# Task 6: Creating and training the model"
   ]
  },
  {
   "cell_type": "markdown",
   "metadata": {
    "colab_type": "text",
    "id": "R4e28tFHubv9"
   },
   "source": [
    "## 6.1 Creating the model\n",
    "\n",
    "**SVD (Singular Value Decomposition)**\n",
    "\n",
    "Interaction Matrix = A X B X C"
   ]
  },
  {
   "cell_type": "code",
   "execution_count": 15,
   "metadata": {
    "colab": {},
    "colab_type": "code",
    "id": "Ft4rS3L-hqeS"
   },
   "outputs": [],
   "source": [
    "algo = SVD(n_epochs = 25, verbose = True)"
   ]
  },
  {
   "cell_type": "markdown",
   "metadata": {
    "colab_type": "text",
    "id": "h_16sRpXwahF"
   },
   "source": [
    "## 6.2 Training the model\n",
    "\n",
    "**Mean Absolute Error (MAE)**: MAE measures the average magnitude of the errors in a set of predictions, without considering their direction. \n",
    "\n",
    "**Root mean squared error (RMSE)**:  RMSE is the square root of the average of squared differences between prediction and actual observation."
   ]
  },
  {
   "cell_type": "code",
   "execution_count": 16,
   "metadata": {
    "colab": {
     "base_uri": "https://localhost:8080/",
     "height": 1000
    },
    "colab_type": "code",
    "id": "nh-E5DS5wYe_",
    "outputId": "9dccb553-93af-4b24-c180-f85905ef4245"
   },
   "outputs": [
    {
     "name": "stdout",
     "output_type": "stream",
     "text": [
      "Processing epoch 0\n",
      "Processing epoch 1\n",
      "Processing epoch 2\n",
      "Processing epoch 3\n",
      "Processing epoch 4\n",
      "Processing epoch 5\n",
      "Processing epoch 6\n",
      "Processing epoch 7\n",
      "Processing epoch 8\n",
      "Processing epoch 9\n",
      "Processing epoch 10\n",
      "Processing epoch 11\n",
      "Processing epoch 12\n",
      "Processing epoch 13\n",
      "Processing epoch 14\n",
      "Processing epoch 15\n",
      "Processing epoch 16\n",
      "Processing epoch 17\n",
      "Processing epoch 18\n",
      "Processing epoch 19\n",
      "Processing epoch 20\n",
      "Processing epoch 21\n",
      "Processing epoch 22\n",
      "Processing epoch 23\n",
      "Processing epoch 24\n",
      "Processing epoch 0\n",
      "Processing epoch 1\n",
      "Processing epoch 2\n",
      "Processing epoch 3\n",
      "Processing epoch 4\n",
      "Processing epoch 5\n",
      "Processing epoch 6\n",
      "Processing epoch 7\n",
      "Processing epoch 8\n",
      "Processing epoch 9\n",
      "Processing epoch 10\n",
      "Processing epoch 11\n",
      "Processing epoch 12\n",
      "Processing epoch 13\n",
      "Processing epoch 14\n",
      "Processing epoch 15\n",
      "Processing epoch 16\n",
      "Processing epoch 17\n",
      "Processing epoch 18\n",
      "Processing epoch 19\n",
      "Processing epoch 20\n",
      "Processing epoch 21\n",
      "Processing epoch 22\n",
      "Processing epoch 23\n",
      "Processing epoch 24\n",
      "Processing epoch 0\n",
      "Processing epoch 1\n",
      "Processing epoch 2\n",
      "Processing epoch 3\n",
      "Processing epoch 4\n",
      "Processing epoch 5\n",
      "Processing epoch 6\n",
      "Processing epoch 7\n",
      "Processing epoch 8\n",
      "Processing epoch 9\n",
      "Processing epoch 10\n",
      "Processing epoch 11\n",
      "Processing epoch 12\n",
      "Processing epoch 13\n",
      "Processing epoch 14\n",
      "Processing epoch 15\n",
      "Processing epoch 16\n",
      "Processing epoch 17\n",
      "Processing epoch 18\n",
      "Processing epoch 19\n",
      "Processing epoch 20\n",
      "Processing epoch 21\n",
      "Processing epoch 22\n",
      "Processing epoch 23\n",
      "Processing epoch 24\n",
      "Processing epoch 0\n",
      "Processing epoch 1\n",
      "Processing epoch 2\n",
      "Processing epoch 3\n",
      "Processing epoch 4\n",
      "Processing epoch 5\n",
      "Processing epoch 6\n",
      "Processing epoch 7\n",
      "Processing epoch 8\n",
      "Processing epoch 9\n",
      "Processing epoch 10\n",
      "Processing epoch 11\n",
      "Processing epoch 12\n",
      "Processing epoch 13\n",
      "Processing epoch 14\n",
      "Processing epoch 15\n",
      "Processing epoch 16\n",
      "Processing epoch 17\n",
      "Processing epoch 18\n",
      "Processing epoch 19\n",
      "Processing epoch 20\n",
      "Processing epoch 21\n",
      "Processing epoch 22\n",
      "Processing epoch 23\n",
      "Processing epoch 24\n",
      "Processing epoch 0\n",
      "Processing epoch 1\n",
      "Processing epoch 2\n",
      "Processing epoch 3\n",
      "Processing epoch 4\n",
      "Processing epoch 5\n",
      "Processing epoch 6\n",
      "Processing epoch 7\n",
      "Processing epoch 8\n",
      "Processing epoch 9\n",
      "Processing epoch 10\n",
      "Processing epoch 11\n",
      "Processing epoch 12\n",
      "Processing epoch 13\n",
      "Processing epoch 14\n",
      "Processing epoch 15\n",
      "Processing epoch 16\n",
      "Processing epoch 17\n",
      "Processing epoch 18\n",
      "Processing epoch 19\n",
      "Processing epoch 20\n",
      "Processing epoch 21\n",
      "Processing epoch 22\n",
      "Processing epoch 23\n",
      "Processing epoch 24\n",
      "Evaluating RMSE, MAE of algorithm SVD on 5 split(s).\n",
      "\n",
      "                  Fold 1  Fold 2  Fold 3  Fold 4  Fold 5  Mean    Std     \n",
      "RMSE (testset)    0.8673  0.8654  0.8531  0.8636  0.8526  0.8604  0.0063  \n",
      "MAE (testset)     0.6664  0.6606  0.6526  0.6617  0.6573  0.6597  0.0046  \n",
      "Fit time          11.25   11.19   11.19   11.19   11.23   11.21   0.03    \n",
      "Test time         0.25    0.24    0.37    0.25    0.37    0.30    0.06    \n",
      ">> Training Done\n"
     ]
    }
   ],
   "source": [
    "cross_validate(algo, data, measures=['RMSE', 'MAE'], cv=5, verbose = True)\n",
    "print('>> Training Done')"
   ]
  },
  {
   "cell_type": "markdown",
   "metadata": {
    "colab_type": "text",
    "id": "zTnqbNt_xkKS"
   },
   "source": [
    "# Task 7: Predictions"
   ]
  },
  {
   "cell_type": "markdown",
   "metadata": {
    "colab_type": "text",
    "id": "ma3oQr1Ax_Hg"
   },
   "source": [
    "## 7.1 Predict ratings for all pairs (user, items) that are NOT in the training set."
   ]
  },
  {
   "cell_type": "code",
   "execution_count": 17,
   "metadata": {
    "colab": {},
    "colab_type": "code",
    "id": "_K3EmIs3wxhW"
   },
   "outputs": [],
   "source": [
    "predictions = algo.test(antiset)"
   ]
  },
  {
   "cell_type": "code",
   "execution_count": 18,
   "metadata": {
    "colab": {
     "base_uri": "https://localhost:8080/",
     "height": 34
    },
    "colab_type": "code",
    "id": "RkqiEwM9z4Jf",
    "outputId": "e58e8df5-17e0-428b-8256-732fed73c65d"
   },
   "outputs": [
    {
     "data": {
      "text/plain": [
       "Prediction(uid=1, iid=318, r_ui=3.529119856267723, est=5, details={'was_impossible': False})"
      ]
     },
     "execution_count": 18,
     "metadata": {},
     "output_type": "execute_result"
    }
   ],
   "source": [
    "predictions[0]"
   ]
  },
  {
   "cell_type": "markdown",
   "metadata": {
    "colab_type": "text",
    "id": "lRmzGn63ze8b"
   },
   "source": [
    "## 7.2 Recommending top 3 movies movies based on predictions"
   ]
  },
  {
   "cell_type": "code",
   "execution_count": 19,
   "metadata": {
    "colab": {
     "base_uri": "https://localhost:8080/",
     "height": 1000
    },
    "colab_type": "code",
    "id": "q3Ugauv0119g",
    "outputId": "c1f22100-5f61-43fa-a663-0a15e1f555ff"
   },
   "outputs": [
    {
     "name": "stdout",
     "output_type": "stream",
     "text": [
      "1 [318, 898, 908]\n",
      "2 [2959, 3508, 912]\n",
      "3 [4993, 858, 47]\n",
      "4 [3671, 318, 1270]\n",
      "5 [912, 898, 44195]\n",
      "6 [904, 96821, 1237]\n",
      "7 [898, 858, 457]\n",
      "8 [898, 1237, 922]\n",
      "9 [296, 858, 1221]\n",
      "10 [265, 898, 3147]\n",
      "11 [260, 1196, 1204]\n",
      "12 [50, 260, 296]\n",
      "13 [898, 457, 858]\n",
      "14 [1207, 3275, 904]\n",
      "15 [750, 1223, 924]\n",
      "16 [1204, 1272, 246]\n",
      "17 [898, 951, 922]\n",
      "18 [951, 1197, 750]\n",
      "19 [858, 110, 953]\n",
      "20 [296, 110, 32]\n",
      "21 [333, 318, 1204]\n",
      "22 [3424, 1208, 1196]\n",
      "23 [1272, 1204, 356]\n",
      "24 [1204, 750, 904]\n",
      "25 [50, 296, 593]\n",
      "26 [1204, 4973, 930]\n",
      "27 [68954, 318, 527]\n",
      "28 [1272, 904, 4973]\n",
      "29 [1221, 260, 1258]\n",
      "30 [904, 1221, 56782]\n",
      "31 [47, 2571, 50]\n",
      "32 [858, 1222, 2959]\n",
      "33 [858, 1221, 933]\n",
      "34 [1250, 91529, 3328]\n",
      "35 [750, 1104, 6711]\n",
      "36 [2959, 7361, 527]\n",
      "37 [858, 5618, 3275]\n",
      "38 [1204, 1233, 1242]\n",
      "39 [4011, 318, 7361]\n",
      "40 [1210, 912, 1204]\n",
      "41 [110, 904, 1270]\n",
      "42 [750, 898, 1204]\n",
      "43 [6, 50, 101]\n",
      "44 [1204, 1219, 858]\n",
      "45 [318, 6874, 1272]\n",
      "46 [1272, 356, 1204]\n",
      "47 [457, 2300, 858]\n",
      "48 [3275, 1204, 1247]\n",
      "49 [260, 1196, 1198]\n",
      "50 [4973, 527, 68157]\n",
      "51 [296, 441, 923]\n",
      "52 [858, 1201, 1221]\n",
      "53 [6, 47, 50]\n",
      "54 [1204, 750, 1217]\n",
      "55 [2571, 1945, 1223]\n",
      "56 [2324, 1196, 1250]\n",
      "57 [1207, 318, 2959]\n",
      "58 [608, 7153, 88163]\n",
      "59 [318, 5618, 1204]\n",
      "60 [898, 750, 904]\n",
      "61 [1250, 1217, 1272]\n",
      "62 [904, 1204, 750]\n",
      "63 [475, 4973, 3275]\n",
      "64 [1212, 1233, 1945]\n",
      "65 [1204, 1250, 858]\n",
      "66 [2324, 1250, 1104]\n",
      "67 [1204, 1233, 3275]\n",
      "68 [898, 177593, 750]\n",
      "69 [1213, 1219, 858]\n",
      "70 [1203, 904, 1945]\n",
      "71 [1104, 1204, 4896]\n",
      "72 [898, 1250, 541]\n",
      "73 [1198, 2571, 1196]\n",
      "74 [318, 177593, 306]\n",
      "75 [1148, 1237, 1178]\n",
      "76 [7361, 951, 7438]\n",
      "77 [898, 527, 246]\n",
      "78 [1196, 1221, 1204]\n",
      "79 [593, 608, 8874]\n",
      "80 [898, 750, 356]\n",
      "81 [720, 904, 1212]\n",
      "82 [898, 1222, 1276]\n",
      "83 [898, 1247, 1217]\n",
      "84 [750, 3451, 1204]\n",
      "85 [1204, 908, 4226]\n",
      "86 [898, 1204, 2160]\n",
      "87 [318, 898, 50]\n",
      "88 [2571, 858, 750]\n",
      "89 [6377, 1217, 1272]\n",
      "90 [318, 356, 527]\n",
      "91 [8950, 88125, 1204]\n",
      "92 [318, 858, 898]\n",
      "93 [1196, 1197, 1198]\n",
      "94 [1204, 1250, 246]\n",
      "95 [318, 858, 1204]\n",
      "96 [2959, 78499, 1270]\n",
      "97 [1272, 898, 1250]\n",
      "98 [260, 142488, 1196]\n",
      "99 [1089, 924, 1217]\n",
      "100 [1237, 898, 7147]\n",
      "101 [2324, 1276, 7361]\n",
      "102 [527, 1207, 858]\n",
      "103 [1203, 1250, 3147]\n",
      "104 [3468, 928, 898]\n",
      "105 [898, 1204, 866]\n",
      "106 [904, 2959, 6350]\n",
      "107 [1207, 527, 356]\n",
      "108 [1250, 7361, 1212]\n",
      "109 [1221, 2324, 1217]\n",
      "110 [318, 858, 904]\n",
      "111 [908, 4973, 1225]\n",
      "112 [898, 296, 6333]\n",
      "113 [1136, 296, 908]\n",
      "114 [318, 527, 1204]\n",
      "115 [1207, 3147, 7153]\n",
      "116 [1237, 2300, 1221]\n",
      "117 [904, 1201, 898]\n",
      "118 [106642, 1204, 4226]\n",
      "119 [922, 1217, 898]\n",
      "120 [1197, 1204, 750]\n",
      "121 [904, 908, 1210]\n",
      "122 [110, 527, 1258]\n",
      "123 [904, 1207, 1197]\n",
      "124 [1197, 904, 44195]\n",
      "125 [898, 1237, 2324]\n",
      "126 [898, 527, 1204]\n",
      "127 [858, 527, 318]\n",
      "128 [1207, 1945, 68954]\n",
      "129 [1198, 898, 356]\n",
      "130 [858, 1250, 2959]\n",
      "131 [1201, 5618, 3435]\n",
      "132 [1276, 908, 177593]\n",
      "133 [1221, 898, 1272]\n",
      "134 [475, 318, 1204]\n",
      "135 [50, 7361, 750]\n",
      "136 [1197, 2324, 3836]\n",
      "137 [898, 3468, 930]\n",
      "138 [858, 318, 1221]\n",
      "139 [1238, 904, 1204]\n",
      "140 [68954, 475, 1172]\n",
      "141 [593, 1204, 5008]\n",
      "142 [318, 1250, 177593]\n",
      "143 [2791, 527, 475]\n",
      "144 [318, 1250, 1104]\n",
      "145 [1204, 858, 1221]\n",
      "146 [904, 318, 2959]\n",
      "147 [2959, 1221, 1213]\n",
      "148 [7361, 1284, 116897]\n",
      "149 [898, 1280, 1283]\n",
      "150 [1204, 904, 3435]\n",
      "151 [1204, 2959, 898]\n",
      "152 [4993, 6711, 356]\n",
      "153 [293, 1136, 2329]\n",
      "154 [50, 2959, 318]\n",
      "155 [898, 50, 7153]\n",
      "156 [2959, 1104, 903]\n",
      "157 [110, 1204, 4226]\n",
      "158 [1104, 1237, 1178]\n",
      "159 [333, 7099, 1250]\n",
      "160 [3030, 318, 5618]\n",
      "161 [1217, 1291, 38061]\n",
      "162 [898, 4226, 750]\n",
      "163 [50, 318, 1148]\n",
      "164 [318, 898, 858]\n",
      "165 [898, 318, 750]\n",
      "166 [1212, 912, 1204]\n",
      "167 [904, 58559, 1207]\n",
      "168 [904, 933, 1228]\n",
      "169 [1213, 898, 904]\n",
      "170 [1272, 898, 930]\n",
      "171 [50, 1213, 1278]\n",
      "172 [1204, 4993, 7153]\n",
      "173 [1204, 904, 1237]\n",
      "174 [2324, 1193, 4034]\n",
      "175 [318, 912, 1266]\n",
      "176 [1272, 33166, 1237]\n",
      "177 [1204, 1248, 1201]\n",
      "178 [898, 750, 3275]\n",
      "179 [1204, 1197, 50]\n",
      "180 [898, 1204, 904]\n",
      "181 [750, 898, 2997]\n",
      "182 [922, 1203, 44195]\n",
      "183 [898, 1197, 527]\n",
      "184 [7153, 4993, 1266]\n",
      "185 [898, 904, 912]\n",
      "186 [904, 475, 318]\n",
      "187 [858, 1250, 923]\n",
      "188 [260, 1196, 1198]\n",
      "189 [912, 898, 904]\n",
      "190 [1198, 7153, 1272]\n",
      "191 [1213, 4973, 1221]\n",
      "192 [898, 750, 1204]\n",
      "193 [904, 1210, 898]\n",
      "194 [898, 912, 1225]\n",
      "195 [5971, 8368, 1204]\n",
      "196 [904, 1250, 593]\n",
      "197 [1204, 1136, 1266]\n",
      "198 [6016, 2542, 928]\n",
      "199 [2959, 475, 1252]\n",
      "200 [2160, 106642, 3451]\n",
      "201 [110, 318, 1221]\n",
      "202 [2324, 527, 1233]\n",
      "203 [908, 750, 1203]\n",
      "204 [3508, 608, 1217]\n",
      "205 [898, 1208, 1225]\n",
      "206 [750, 858, 318]\n",
      "207 [1250, 2791, 1233]\n",
      "208 [1204, 1197, 720]\n",
      "209 [904, 1219, 1272]\n",
      "210 [1197, 904, 898]\n",
      "211 [1250, 3275, 1237]\n",
      "212 [1204, 3266, 3275]\n",
      "213 [1250, 1261, 904]\n",
      "214 [750, 898, 2959]\n",
      "215 [898, 2288, 1178]\n",
      "216 [1208, 750, 356]\n",
      "217 [1204, 898, 4011]\n",
      "218 [527, 356, 4995]\n",
      "219 [1207, 5618, 912]\n",
      "220 [904, 38061, 457]\n",
      "221 [2360, 1221, 3508]\n",
      "222 [260, 1196, 750]\n",
      "223 [1204, 1104, 34405]\n",
      "224 [2959, 912, 2202]\n",
      "225 [318, 1204, 898]\n",
      "226 [858, 5618, 2288]\n",
      "227 [1136, 904, 951]\n",
      "228 [904, 898, 741]\n",
      "229 [2324, 44195, 1193]\n",
      "230 [1250, 475, 6350]\n",
      "231 [898, 1204, 27773]\n",
      "232 [951, 1219, 926]\n",
      "233 [951, 1204, 142488]\n",
      "234 [527, 1204, 318]\n",
      "235 [1204, 1172, 541]\n",
      "236 [2959, 318, 904]\n",
      "237 [1204, 904, 593]\n",
      "238 [3266, 1204, 750]\n",
      "239 [750, 8874, 4226]\n",
      "240 [1283, 750, 56782]\n",
      "241 [904, 1197, 58559]\n",
      "242 [898, 2028, 2959]\n",
      "243 [1197, 1198, 2571]\n",
      "244 [750, 3424, 33166]\n",
      "245 [1204, 318, 593]\n",
      "246 [904, 1104, 318]\n",
      "247 [898, 750, 1204]\n",
      "248 [2959, 898, 3275]\n",
      "249 [1204, 898, 1945]\n",
      "250 [1207, 2571, 3275]\n",
      "251 [898, 1204, 246]\n",
      "252 [2959, 2571, 1204]\n",
      "253 [898, 2959, 3451]\n",
      "254 [750, 1250, 1204]\n",
      "255 [898, 3147, 48516]\n",
      "256 [1204, 898, 1272]\n",
      "257 [1204, 318, 1276]\n",
      "258 [1204, 475, 922]\n",
      "259 [2324, 2762, 110]\n",
      "260 [898, 858, 110]\n",
      "261 [1178, 608, 260]\n",
      "262 [1213, 1233, 1912]\n",
      "263 [750, 1221, 926]\n",
      "264 [1242, 8368, 4973]\n",
      "265 [1104, 1197, 1610]\n",
      "266 [858, 2360, 1217]\n",
      "267 [1204, 858, 318]\n",
      "268 [608, 318, 1136]\n",
      "269 [1204, 27773, 1272]\n",
      "270 [296, 1203, 318]\n",
      "271 [318, 296, 5952]\n",
      "272 [260, 858, 608]\n",
      "273 [1204, 904, 318]\n",
      "274 [1237, 1250, 898]\n",
      "275 [1201, 4878, 27773]\n",
      "276 [50, 110, 593]\n",
      "277 [318, 1250, 3681]\n",
      "278 [2324, 2571, 2959]\n",
      "279 [1204, 904, 1228]\n",
      "280 [2324, 318, 951]\n",
      "281 [1225, 527, 1203]\n",
      "282 [1197, 5902, 904]\n",
      "283 [1198, 933, 858]\n",
      "284 [898, 527, 1204]\n",
      "285 [1199, 318, 1204]\n",
      "286 [1250, 1237, 1208]\n",
      "287 [7438, 7153, 296]\n",
      "288 [858, 4973, 1221]\n",
      "289 [2959, 7361, 1237]\n",
      "290 [2324, 926, 306]\n",
      "291 [1210, 1204, 475]\n",
      "292 [1197, 898, 954]\n",
      "293 [2959, 750, 50]\n",
      "294 [1252, 1193, 306]\n",
      "295 [1204, 1104, 1732]\n",
      "296 [904, 1221, 1250]\n",
      "297 [1196, 260, 858]\n",
      "298 [1080, 1204, 1199]\n",
      "299 [1261, 858, 1278]\n",
      "300 [898, 930, 951]\n",
      "301 [7438, 1104, 318]\n",
      "302 [904, 318, 1196]\n",
      "303 [1204, 951, 750]\n",
      "304 [1080, 912, 858]\n",
      "305 [2788, 908, 105504]\n",
      "306 [750, 1204, 898]\n",
      "307 [68237, 27773, 48738]\n",
      "308 [441, 26471, 3451]\n",
      "309 [1197, 56782, 899]\n",
      "310 [260, 1221, 1270]\n",
      "311 [898, 318, 1204]\n",
      "312 [858, 296, 4973]\n",
      "313 [3030, 898, 58559]\n",
      "314 [1197, 930, 1233]\n",
      "315 [78499, 593, 318]\n",
      "316 [2324, 1237, 904]\n",
      "317 [1233, 1178, 1278]\n",
      "318 [1204, 898, 2959]\n",
      "319 [1204, 898, 741]\n",
      "320 [750, 1237, 898]\n",
      "321 [904, 1237, 898]\n",
      "322 [541, 1201, 1204]\n",
      "323 [1104, 2329, 79132]\n",
      "324 [1204, 1213, 750]\n",
      "325 [1080, 1201, 5618]\n",
      "326 [1291, 908, 2700]\n",
      "327 [2571, 750, 1204]\n",
      "328 [1281, 2692, 2716]\n",
      "329 [3328, 4011, 1250]\n",
      "330 [106782, 1212, 1104]\n",
      "331 [1221, 1617, 923]\n",
      "332 [142488, 908, 1233]\n",
      "333 [898, 904, 296]\n",
      "334 [898, 912, 1204]\n",
      "335 [260, 1198, 3578]\n",
      "336 [3275, 1204, 904]\n",
      "337 [1197, 1270, 898]\n",
      "338 [904, 1178, 260]\n",
      "339 [951, 27611, 1104]\n",
      "340 [1270, 898, 904]\n",
      "341 [1104, 2318, 5618]\n",
      "342 [1204, 318, 356]\n",
      "343 [3468, 1204, 898]\n",
      "344 [3578, 1204, 176]\n",
      "345 [904, 318, 48516]\n",
      "346 [1250, 1291, 475]\n",
      "347 [1196, 318, 1104]\n",
      "348 [1219, 475, 898]\n",
      "349 [1198, 260, 318]\n",
      "350 [2959, 1204, 750]\n",
      "351 [898, 1148, 930]\n",
      "352 [3552, 2239, 1272]\n",
      "353 [1198, 260, 3671]\n",
      "354 [56782, 904, 1272]\n",
      "355 [1276, 1178, 898]\n",
      "356 [1204, 2160, 1250]\n",
      "357 [1237, 904, 4011]\n",
      "358 [1204, 1197, 898]\n",
      "359 [318, 904, 750]\n",
      "360 [318, 1213, 1104]\n",
      "361 [1237, 1272, 1228]\n",
      "362 [1217, 1148, 1204]\n",
      "363 [1197, 1250, 1203]\n",
      "364 [1178, 318, 1197]\n",
      "365 [1203, 112290, 2700]\n",
      "366 [898, 904, 1237]\n",
      "367 [1250, 91529, 1303]\n",
      "368 [318, 1204, 7153]\n",
      "369 [1237, 3275, 1104]\n",
      "370 [1217, 898, 1272]\n",
      "371 [260, 954, 1198]\n",
      "372 [2762, 910, 4034]\n",
      "373 [858, 1148, 3030]\n",
      "374 [1221, 1204, 1199]\n",
      "375 [898, 593, 1204]\n",
      "376 [318, 2959, 3030]\n",
      "377 [318, 904, 1228]\n",
      "378 [904, 1197, 898]\n",
      "379 [1197, 106642, 1261]\n",
      "380 [898, 2300, 1233]\n",
      "381 [1104, 60684, 904]\n",
      "382 [110, 441, 1136]\n",
      "383 [750, 904, 1221]\n",
      "384 [1284, 951, 1283]\n",
      "385 [527, 3508, 3275]\n",
      "386 [4973, 2329, 904]\n",
      "387 [527, 1217, 7361]\n",
      "388 [2324, 7153, 7361]\n",
      "389 [1221, 1204, 1237]\n",
      "390 [318, 1208, 475]\n",
      "391 [1304, 1252, 106782]\n",
      "392 [2959, 318, 904]\n",
      "393 [904, 1196, 1947]\n",
      "394 [2502, 750, 898]\n",
      "395 [898, 1237, 96829]\n",
      "396 [1208, 1178, 1196]\n",
      "397 [858, 904, 318]\n",
      "398 [318, 1221, 1104]\n",
      "399 [3275, 318, 81847]\n",
      "400 [1204, 4973, 2329]\n",
      "401 [92259, 1278, 4973]\n",
      "402 [898, 1207, 1198]\n",
      "403 [1204, 904, 3275]\n",
      "404 [4226, 1204, 1197]\n",
      "405 [912, 142488, 1104]\n",
      "406 [1221, 318, 541]\n",
      "407 [50, 296, 1250]\n",
      "408 [1203, 3451, 858]\n",
      "409 [4973, 2959, 1201]\n",
      "410 [6666, 1283, 898]\n",
      "411 [1204, 1199, 750]\n",
      "412 [1225, 1249, 6874]\n",
      "413 [50, 110, 356]\n",
      "414 [1245, 3435, 2324]\n",
      "415 [1204, 1233, 3275]\n",
      "416 [1203, 914, 908]\n",
      "417 [4973, 1203, 912]\n",
      "418 [750, 1225, 5060]\n",
      "419 [1201, 1041, 27773]\n",
      "420 [1204, 904, 177593]\n",
      "421 [1204, 1198, 951]\n",
      "422 [1198, 1089, 1204]\n",
      "423 [1204, 527, 593]\n",
      "424 [1203, 1204, 246]\n",
      "425 [1201, 1217, 3429]\n",
      "426 [527, 898, 750]\n",
      "427 [3275, 1245, 4973]\n",
      "428 [1732, 608, 1394]\n",
      "429 [1197, 318, 1204]\n",
      "430 [4993, 7361, 2502]\n",
      "431 [2959, 318, 898]\n",
      "432 [898, 1148, 4034]\n",
      "433 [904, 1196, 260]\n",
      "434 [923, 1201, 2997]\n",
      "435 [898, 1673, 1225]\n",
      "436 [2202, 2329, 904]\n",
      "437 [5618, 7153, 4034]\n",
      "438 [898, 1198, 858]\n",
      "439 [1204, 1196, 1261]\n",
      "440 [1201, 1276, 318]\n",
      "441 [318, 48516, 914]\n",
      "442 [1237, 3275, 1204]\n",
      "443 [898, 1217, 3147]\n",
      "444 [904, 1204, 1233]\n",
      "445 [4642, 1148, 1204]\n",
      "446 [1204, 928, 750]\n",
      "447 [1204, 898, 3147]\n",
      "448 [741, 88129, 1233]\n",
      "449 [541, 1221, 1104]\n",
      "450 [2571, 1197, 898]\n",
      "451 [260, 1148, 2324]\n",
      "452 [441, 954, 1080]\n",
      "453 [112552, 1198, 3275]\n",
      "454 [1204, 2959, 1673]\n",
      "455 [260, 2571, 858]\n",
      "456 [2571, 898, 750]\n",
      "457 [1221, 1204, 4973]\n",
      "458 [904, 246, 1197]\n",
      "459 [898, 356, 912]\n",
      "460 [904, 177593, 1204]\n",
      "461 [914, 68954, 1104]\n",
      "462 [1201, 898, 5618]\n",
      "463 [898, 1272, 318]\n",
      "464 [750, 1204, 1212]\n",
      "465 [4973, 318, 898]\n",
      "466 [1197, 1204, 904]\n",
      "467 [1250, 318, 5618]\n",
      "468 [1217, 1250, 898]\n",
      "469 [7438, 2959, 914]\n",
      "470 [1204, 1258, 1197]\n",
      "471 [1204, 904, 953]\n",
      "472 [1278, 475, 296]\n",
      "473 [1221, 858, 1219]\n",
      "474 [441, 77455, 741]\n",
      "475 [6, 356, 593]\n",
      "476 [1204, 898, 1233]\n",
      "477 [858, 1200, 71899]\n",
      "478 [904, 1197, 4878]\n",
      "479 [1201, 6874, 1196]\n",
      "480 [1223, 720, 933]\n",
      "481 [2959, 110, 1228]\n",
      "482 [318, 223, 1204]\n",
      "483 [904, 2300, 3435]\n",
      "484 [105504, 4973, 1270]\n",
      "485 [1204, 1237, 527]\n",
      "486 [1197, 904, 1198]\n",
      "487 [3030, 1242, 1217]\n",
      "488 [1204, 33166, 1242]\n",
      "489 [318, 527, 3552]\n",
      "490 [1223, 50, 898]\n",
      "491 [904, 1237, 1204]\n",
      "492 [2239, 1204, 1104]\n",
      "493 [2959, 1089, 318]\n",
      "494 [1207, 4993, 904]\n",
      "495 [1270, 68954, 1201]\n",
      "496 [1201, 2959, 1217]\n",
      "497 [6350, 1212, 912]\n",
      "498 [898, 1276, 1197]\n",
      "499 [2959, 318, 1104]\n",
      "500 [89904, 4973, 68157]\n",
      "501 [4226, 1204, 2028]\n",
      "502 [1201, 1204, 1252]\n",
      "503 [3275, 1199, 1198]\n",
      "504 [1197, 1204, 866]\n",
      "505 [318, 1208, 1080]\n",
      "506 [858, 1198, 7153]\n",
      "507 [1204, 1250, 260]\n",
      "508 [318, 1204, 1197]\n",
      "509 [593, 4226, 1204]\n",
      "510 [1610, 1212, 1204]\n",
      "511 [1204, 260, 750]\n",
      "512 [858, 2858, 2959]\n",
      "513 [1208, 1204, 898]\n",
      "514 [1204, 318, 720]\n",
      "515 [296, 1210, 898]\n",
      "516 [2324, 318, 3147]\n",
      "517 [1208, 2203, 81847]\n",
      "518 [898, 1250, 4995]\n",
      "519 [541, 1204, 1178]\n",
      "520 [1203, 904, 1104]\n",
      "521 [1204, 904, 318]\n",
      "522 [5618, 475, 1258]\n",
      "523 [608, 1136, 1196]\n",
      "524 [7153, 38061, 904]\n",
      "525 [3266, 904, 1252]\n",
      "526 [1197, 933, 1223]\n",
      "527 [1197, 898, 589]\n",
      "528 [260, 1178, 177593]\n",
      "529 [898, 3147, 951]\n",
      "530 [318, 1196, 1204]\n",
      "531 [318, 110, 1276]\n",
      "532 [898, 1196, 1266]\n",
      "533 [527, 593, 1228]\n",
      "534 [318, 898, 457]\n",
      "535 [527, 1208, 1221]\n",
      "536 [608, 904, 866]\n",
      "537 [593, 4878, 1250]\n",
      "538 [318, 898, 1203]\n",
      "539 [750, 926, 1272]\n",
      "540 [858, 318, 1204]\n",
      "541 [898, 1198, 2571]\n",
      "542 [58559, 112552, 110]\n",
      "543 [110, 527, 1197]\n",
      "544 [260, 527, 608]\n",
      "545 [1197, 1178, 898]\n",
      "546 [1104, 3266, 904]\n",
      "547 [318, 858, 1198]\n",
      "548 [527, 318, 858]\n",
      "549 [1217, 898, 1104]\n",
      "550 [898, 1204, 904]\n",
      "551 [1204, 1237, 1148]\n",
      "552 [260, 4993, 1207]\n",
      "553 [1237, 1104, 475]\n",
      "554 [1237, 904, 1148]\n",
      "555 [1193, 68157, 527]\n",
      "556 [318, 1204, 922]\n",
      "557 [898, 1217, 858]\n",
      "558 [1136, 904, 2324]\n",
      "559 [750, 1204, 933]\n",
      "560 [750, 1204, 1945]\n",
      "561 [1203, 750, 1080]\n",
      "562 [1276, 1208, 1203]\n",
      "563 [1207, 318, 3275]\n",
      "564 [1201, 6874, 2239]\n",
      "565 [1207, 2324, 2571]\n",
      "566 [142488, 922, 2360]\n",
      "567 [1136, 1148, 2288]\n",
      "568 [858, 1201, 2571]\n",
      "569 [858, 2324, 904]\n",
      "570 [926, 928, 1223]\n",
      "571 [527, 318, 858]\n",
      "572 [2997, 1104, 1212]\n",
      "573 [1199, 1250, 109374]\n",
      "574 [1196, 1204, 1198]\n",
      "575 [3275, 318, 1197]\n",
      "576 [2959, 2571, 593]\n",
      "577 [898, 58559, 1207]\n",
      "578 [3681, 1197, 1204]\n",
      "579 [58559, 318, 1204]\n",
      "580 [79132, 3468, 3451]\n",
      "581 [1197, 1193, 3275]\n",
      "582 [1197, 898, 3147]\n",
      "583 [898, 1204, 750]\n",
      "584 [1222, 2268, 2571]\n",
      "585 [1204, 356, 318]\n",
      "586 [112552, 4226, 4973]\n",
      "587 [1204, 4011, 2959]\n",
      "588 [1204, 1197, 1221]\n",
      "589 [1242, 1197, 912]\n",
      "590 [1225, 6711, 112552]\n",
      "591 [1204, 904, 1196]\n",
      "592 [260, 2571, 1198]\n",
      "593 [750, 296, 7438]\n",
      "594 [356, 1270, 2959]\n",
      "595 [1221, 904, 4226]\n",
      "596 [1204, 898, 1217]\n",
      "597 [923, 318, 2324]\n",
      "598 [260, 1198, 1080]\n",
      "599 [866, 1272, 1203]\n",
      "600 [2288, 1201, 1262]\n",
      "601 [1204, 1276, 3468]\n",
      "602 [858, 1198, 3508]\n",
      "603 [47, 5618, 7748]\n",
      "604 [750, 3275, 3451]\n",
      "605 [1250, 1204, 750]\n",
      "606 [1213, 1104, 951]\n",
      "607 [898, 4034, 50]\n",
      "608 [2324, 57640, 48774]\n",
      "609 [904, 1104, 1237]\n",
      "610 [1223, 1945, 2502]\n"
     ]
    }
   ],
   "source": [
    "from collections import defaultdict\n",
    "def get_top_n(predictions, n):\n",
    "    # First map the predictions to each user.\n",
    "    top_n = defaultdict(list)\n",
    "    for uid, iid, true_r, est, _ in predictions:\n",
    "        top_n[uid].append((iid, est))\n",
    "\n",
    "    # Then sort the predictions for each user and retrieve the n highest ones.\n",
    "    for uid, user_ratings in top_n.items():\n",
    "        user_ratings.sort(key=lambda x: x[1], reverse=True)\n",
    "        top_n[uid] = user_ratings[:n]\n",
    "\n",
    "    return top_n\n",
    "top_n = get_top_n(predictions, n=3)\n",
    "for uid, user_ratings in top_n.items():\n",
    "    print(uid, [iid for (iid, rating) in user_ratings])"
   ]
  }
 ],
 "metadata": {
  "colab": {
   "collapsed_sections": [],
   "name": "Movies Recommendation Engine - Coursera [Completed]",
   "provenance": [],
   "toc_visible": true
  },
  "kernelspec": {
   "display_name": "Python 3",
   "language": "python",
   "name": "python3"
  },
  "language_info": {
   "codemirror_mode": {
    "name": "ipython",
    "version": 3
   },
   "file_extension": ".py",
   "mimetype": "text/x-python",
   "name": "python",
   "nbconvert_exporter": "python",
   "pygments_lexer": "ipython3",
   "version": "3.8.4"
  }
 },
 "nbformat": 4,
 "nbformat_minor": 4
}
